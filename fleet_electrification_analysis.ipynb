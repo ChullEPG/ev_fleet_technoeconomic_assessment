{
 "cells": [
  {
   "cell_type": "code",
   "execution_count": 1,
   "metadata": {},
   "outputs": [],
   "source": [
    "import numpy as np\n",
    "import numpy_financial as npf\n",
    "import matplotlib.pyplot as plt\n",
    "import pandas as pd\n",
    "from dataclasses import dataclass\n",
    "import math \n",
    "\n",
    "# helper functions \n",
    "from importlib import reload \n",
    "import financial\n",
    "import charging_simulations "
   ]
  },
  {
   "cell_type": "markdown",
   "metadata": {},
   "source": [
    "# TODO: \n",
    "\n",
    "(in no particular order)\n",
    "1. <font color = 'yellow'> Read in parameters as data load in or user input. </font>\n",
    "1. <font color = 'orange'> Upgrade the EV charge simulation, possibly based on data or heuristics (needs a discussion) </font>\n",
    "2. <font color = 'orange'> Currently hard-coded as year on year analysis, may want to make this dynamic </font>\n",
    "3. <font color = 'yellow'> Amortization schedule function is clunk so fix. No need for pandas df </font>\n",
    "4. <font color = 'orange'> Simulate 'roaming' charging profile like normal charging profile and use for EV roaming revenue calcs </font>\n",
    "5. <font color = 'yellow'> Separate out EV charging station service life from vehicle service life as opposed to static profile </font>\n",
    "\n",
    "key: \n",
    "<font color = 'red'> hard </font>,\n",
    "<font color = 'orange'> medium </font>,\n",
    "<font color = 'yellow'> easy </font> </br>"
   ]
  },
  {
   "cell_type": "markdown",
   "metadata": {},
   "source": [
    "## charging"
   ]
  },
  {
   "cell_type": "markdown",
   "metadata": {},
   "source": [
    "1. Logistics vehicle needs mid-day top up (write function below) </br>\n",
    "2. two difference chargers for tech services. only uses weekend charge rate  if model sees that is running out of charge at end of week (for UC3) </br>\n",
    "3. For rental, simulate  stochastic charging profile </br>\n",
    "4. For rental, only 15% of charging is at home. They still need to put up enough chargers but only pay for 15% ish of charging. </br>\n",
    "5. For rental, separate out cost to customer vs. the rental company </br>\n",
    "6. Do sesaonal rates (see the seasonal rate schedule)"
   ]
  },
  {
   "cell_type": "markdown",
   "metadata": {},
   "source": [
    "## financing"
   ]
  },
  {
   "cell_type": "markdown",
   "metadata": {},
   "source": [
    "1. vehicle rebuy value is original value minus the depreciation that has occurred\n",
    "2. they take out  another loan when vehicle is resold \n",
    "3. floating interest rate vs. fixed - changing each month vs not. (look at how hard this is). this will make big diff in repayment schedule\n"
   ]
  },
  {
   "cell_type": "markdown",
   "metadata": {},
   "source": [
    "## output"
   ]
  },
  {
   "cell_type": "markdown",
   "metadata": {},
   "source": [
    "1. Break down costs like in the bar chart he sent me, and do that per distance per time period  (side-by-side bar chart, ICE vs. EV, in diff scenarios, e.g. one showing costs for 120k miles over 3 years, one showing 160k miles over 4 years, one showing 200k miles over 5 years)\n"
   ]
  },
  {
   "cell_type": "markdown",
   "metadata": {},
   "source": [
    "# Helper Functions"
   ]
  },
  {
   "attachments": {},
   "cell_type": "markdown",
   "metadata": {},
   "source": [
    "## Plotting"
   ]
  },
  {
   "cell_type": "code",
   "execution_count": 2,
   "metadata": {},
   "outputs": [],
   "source": [
    "\n",
    "# Inputs: arrays of annual discounted costs for EV and ICE, and length of time to plot\n",
    "# Outputs: line plot of cumulative costs (discounted) of EV and ICE over time period\n",
    "def plot_cumulative_costs(EV, ICE, filename = None, vehicle_type = \"\"):\n",
    "    costs_EV = EV.get_annual_discounted_costs()\n",
    "    costs_ICE = ICE.get_annual_discounted_costs()\n",
    "    years  = np.arange(0, len(costs_EV))\n",
    "    plt.title(f\"Cumulative Costs ($), \\n EV  vs ICE {vehicle_type}\", size = 18)\n",
    "    plt.xlabel(\"Years\")\n",
    "    plt.ylabel(\"Cost ($)\")\n",
    "    plt.plot(years[0:], np.cumsum(costs_EV[0:]), color = 'blue', label = f'EV {vehicle_type}', marker = 'o')\n",
    "    plt.plot(years[0:], np.cumsum(costs_ICE[0:]), color = 'red', label = f'ICE {vehicle_type}', marker = 'o')\n",
    "    plt.legend()\n",
    "    if filename is not None:\n",
    "        plt.savefig(filename + \".png\")\n",
    "    plt.show()"
   ]
  },
  {
   "cell_type": "code",
   "execution_count": 45,
   "metadata": {},
   "outputs": [],
   "source": [
    "def plot_fleet_costs(costs_EV, costs_ICE, vehicle_type, num_vehicles, filename = None):\n",
    "    years  = np.arange(0, len(costs_EV))\n",
    "    plt.title(f\"Cumulative Costs ($), \\n EV  vs ICE {vehicle_type} for fleet size {fleet_size}\", size = 18)\n",
    "    plt.xlabel(\"Years\")\n",
    "    plt.ylabel(\"Cost ($)\")\n",
    "    plt.plot(years[0:], np.cumsum(costs_EV[0:]), color = 'blue', label = f'EV {vehicle_type}', marker = 'o')\n",
    "    plt.plot(years[0:], np.cumsum(costs_ICE[0:]), color = 'red', label = f'ICE {vehicle_type}', marker = 'o')\n",
    "    plt.legend()\n",
    "    if filename is not None:\n",
    "        plt.savefig(filename + \".png\")\n",
    "    plt.show()"
   ]
  },
  {
   "cell_type": "markdown",
   "metadata": {},
   "source": [
    "## Get fleet costs"
   ]
  },
  {
   "cell_type": "code",
   "execution_count": 39,
   "metadata": {},
   "outputs": [],
   "source": [
    "def obtain_fleet_costs(EV, ICE, fleet_size, no_location):\n",
    "    costs_EV = EV.get_annual_discounted_costs()\n",
    "    costs_ICE = ICE.get_annual_discounted_costs()\n",
    "    costs_EV = [cost * fleet_size * no_location for cost in costs_EV]\n",
    "    costs_ICE = [cost * fleet_size * no_location for cost in costs_ICE]\n",
    "    return costs_EV, costs_ICE\n",
    "   "
   ]
  },
  {
   "cell_type": "markdown",
   "metadata": {},
   "source": [
    "## Simulate charging"
   ]
  },
  {
   "cell_type": "markdown",
   "metadata": {},
   "source": [
    "plt.plot(simulate_fixed_charging_load)"
   ]
  },
  {
   "attachments": {},
   "cell_type": "markdown",
   "metadata": {},
   "source": [
    "# Classes"
   ]
  },
  {
   "attachments": {},
   "cell_type": "markdown",
   "metadata": {},
   "source": [
    "### Data classes\n",
    "In practice, to be instantiated with user input or loaded data"
   ]
  },
  {
   "cell_type": "code",
   "execution_count": 3,
   "metadata": {},
   "outputs": [],
   "source": [
    "@dataclass\n",
    "class ChargingPort: \n",
    "    charging_power: float \n",
    "    charging_efficiency: float \n",
    "    capex: float \n",
    "    roaming: bool\n",
    "    roaming_pct: float\n",
    "    annual_opex: float\n",
    "\n",
    "@dataclass \n",
    "class MarketEnvironment:\n",
    "    interest_rate: float \n",
    "    inflation_rate: float \n",
    "    price_diesel: float \n",
    "    price_electricity: float \n",
    "    time_of_use_tariffs: dict\n",
    "    time_periods: dict\n",
    "    price_diesel_annual_growth_rate: float \n",
    "    price_electricity_annual_growth_rate: float \n",
    "    discount_rate: float \n",
    " \n",
    "@dataclass    \n",
    "class FinancingMechanism:\n",
    "    loan_lifetime: int \n",
    "    installment_schedule: int \n",
    "    "
   ]
  },
  {
   "attachments": {},
   "cell_type": "markdown",
   "metadata": {},
   "source": [
    "### Vehicle \n",
    "(for ICE vehicles / parent class of EV alternative)"
   ]
  },
  {
   "cell_type": "code",
   "execution_count": 11,
   "metadata": {},
   "outputs": [],
   "source": [
    "class Vehicle:\n",
    "    KGCO2EQ_PER_L_DIESEL = 2.3 # kgCO2/L\n",
    "    \n",
    "    def __init__(self, model: str, params: dict, market_environment, financing_mechanism):\n",
    "    \n",
    "        self.model = model\n",
    "        self.daily_mileage = params['daily_mileage'] # km/day\n",
    "        self.days_worked_per_week = params['days_worked_per_week'] # days/week\n",
    "        self.weeks_worked_per_year = params['weeks_worked_per_year'] # weeks/year\n",
    "        self.fuel_economy = params['fuel_economy'] # L/100km\n",
    "        self.trade_in_distance = params['ICE_trade_in_distance'] # km \n",
    "        self.maintenance_schedule = params['maintenance_schedule'] # km\n",
    "        self.capex = params['ICE_capex'] # $/vehicle\n",
    "\n",
    "        self.vehicle_capex = params['ICE_capex'] # $/vehicle\n",
    "        self.down_payment_fraction = params['down_payment_fraction'] # %\n",
    "        \n",
    "        \n",
    "        self.depreciation = params['depreciation']\n",
    "        \n",
    "        self.rebuy_value = params['rebuy_value_fraction'] * self.capex # $/vehicle\n",
    "        \n",
    "        \n",
    "        \n",
    "        # Other operating costs\n",
    "        self.maintenance_cost = params['maintenance_cost'] # $/year\n",
    "        self.annual_insurance_cost = params['annual_insurance_cost'] # $/year\n",
    "        self.annual_taxes = params['annual_taxes'] # $/year\n",
    "        \n",
    "        \n",
    "        # data classes\n",
    "        self.market_environment = market_environment\n",
    "        self.financing_mechanism = financing_mechanism\n",
    "        \n",
    "        \n",
    "    def __repr__(self):\n",
    "        return f\"ICE(id = {repr(self.model)}, daily_mileage = {repr(self.daily_mileage)}, days_worked_per_week = {repr(self.days_worked_per_week)}, weeks_worked_per_year = {repr(self.weeks_worked_per_year)}, fuel_economy = {repr(self.fuel_economy)}, maintenance_cost = {repr(self.maintenance_cost)})\"  \n",
    "        \n",
    "    \n",
    "    ### Computed properties\n",
    "    @property \n",
    "    def down_payment(self):\n",
    "        return self.down_payment_fraction * self.vehicle_capex # $/vehicle\n",
    "    \n",
    "    @property\n",
    "    def loan_amount(self):\n",
    "        return self.vehicle_capex - self.down_payment\n",
    "    \n",
    "    @property\n",
    "    def annual_mileage(self):\n",
    "        return self.daily_mileage * self.days_worked_per_week * self.weeks_worked_per_year\n",
    "    \n",
    "    @property \n",
    "    def annual_fuel_consumption(self):\n",
    "        return self.annual_mileage * self.fuel_economy / 100\n",
    "    \n",
    "    @property \n",
    "    def service_life(self):\n",
    "        # round up to nearest year\n",
    "        return math.ceil(self.trade_in_distance / self.annual_mileage) \n",
    "    \n",
    "    @property\n",
    "    def annual_maintenance_cost(self):\n",
    "        num_maintenance_events = self.trade_in_distance / self.maintenance_schedule \n",
    "        num_annual_maintenance_events = num_maintenance_events / self.service_life\n",
    "        return num_annual_maintenance_events * self.maintenance_cost\n",
    "    \n",
    "    @property \n",
    "    def annual_carbon_emissions(self):\n",
    "        return self.annual_fuel_consumption * Vehicle.KGCO2EQ_PER_L_DIESEL\n",
    "    \n",
    "    # Costs\n",
    "    @property \n",
    "    def amortization_schedule(self):\n",
    "        loan_amount = -self.loan_amount\n",
    "        interest_rate_per_period = self.market_environment.interest_rate / self.financing_mechanism.installment_schedule\n",
    "        periods = self.financing_mechanism.loan_lifetime * self.financing_mechanism.installment_schedule # monthly payback\n",
    "        n_periods = np.arange(periods) + 1\n",
    "    \n",
    "        ##### BUILD AMORTIZATION SCHEDULE #####\n",
    "        # Interest \n",
    "        interest_monthly = npf.ipmt(interest_rate_per_period, n_periods, periods, loan_amount)\n",
    "    \n",
    "        # Principal \n",
    "        principal_monthly = npf.ppmt(interest_rate_per_period, n_periods, periods, loan_amount)\n",
    "    \n",
    "        # Join data in dataframe\n",
    "        df = pd.DataFrame({\n",
    "            'Period': n_periods,\n",
    "            'Interest': interest_monthly,\n",
    "            'Principal': principal_monthly\n",
    "        })\n",
    "    \n",
    "        # Monthly Loan Payment\n",
    "        df['Payment'] = df['Interest'] + df['Principal']\n",
    "    \n",
    "        # Cumsum Loan Payments\n",
    "        df['Balance'] = df['Payment'].cumsum()\n",
    "    \n",
    "        # Reverse vals to pay down balance\n",
    "        df['Balance'] = df['Balance'].values[::-1]\n",
    "    \n",
    "        return df\n",
    "    \n",
    "    @property \n",
    "    def capital_financing_costs(self):\n",
    "        cap_fin_cost = np.zeros(self.financing_mechanism.loan_lifetime)\n",
    "        cap_fin_cost[0] = -self.capex\n",
    "        annual_loan_payment = self.amortization_schedule.iloc[0:self.financing_mechanism.installment_schedule].sum()['Payment']\n",
    "        cap_fin_cost[1:self.financing_mechanism.loan_lifetime + 1] = annual_loan_payment\n",
    "        return cap_fin_cost\n",
    "    \n",
    "    @property\n",
    "    def operating_cost_fuel(self):\n",
    "        #Fuel Costs\n",
    "        operating_cost_fuel = np.full(self.service_life, self.market_environment.price_diesel * self.annual_fuel_consumption)\n",
    "        operating_cost_fuel[0] = 0\n",
    "        \n",
    "        # Adjust fuel cost for annual growth rate\n",
    "        for idx,val in enumerate(operating_cost_fuel):\n",
    "            if idx != 0:\n",
    "                operating_cost_fuel[idx] = operating_cost_fuel[idx] * (1+self.market_environment.price_diesel_annual_growth_rate)**(idx-1)\n",
    "        \n",
    "        return operating_cost_fuel\n",
    "\n",
    "    @property\n",
    "    def operating_cost_other(self):\n",
    "        operating_cost_other = np.full(self.service_life, self.annual_insurance_cost + self.annual_maintenance_cost + self.annual_taxes)\n",
    "        operating_cost_other[0] = 0 # 0 operating costs in year 0 (before the purchase is made)\n",
    "        \n",
    "        return operating_cost_other\n",
    "    \n",
    "    @property\n",
    "    def operating_cost_total(self):\n",
    "        return self.operating_cost_fuel + self.operating_cost_other\n",
    "    \n",
    "    @property\n",
    "    def annual_costs(self):\n",
    "        # identify which list is shorter between self.capital_financing_Costs and self.operating_Cost_total\n",
    "        # if self.capital_financing_costs is shorter, pad it with zeros\n",
    "        # if self.operating_cost_total is shorter, pad it with zeros\n",
    "        # sum the two lists\n",
    "        # return the sum\n",
    "        \n",
    "        capital_financing_costs = self.capital_financing_costs\n",
    "        operating_cost_total = self.operating_cost_total\n",
    "        \n",
    "        if len(capital_financing_costs) <= len(operating_cost_total):\n",
    "            capital_financing_costs = np.pad(capital_financing_costs, (0, len(operating_cost_total) - len(capital_financing_costs)), 'constant')\n",
    "        else:\n",
    "            operating_cost_total = np.pad(operating_cost_total, (0, len(capital_financing_costs) - len(operating_cost_total)), 'constant')\n",
    "        \n",
    "    \n",
    "        return [cap_fin_cost + op_cost for cap_fin_cost, op_cost in zip(capital_financing_costs, operating_cost_total)]\n",
    "    \n",
    "    \n",
    "    def get_annual_discounted_costs(self):\n",
    "            \n",
    "        cost_annual_discounted = self.annual_costs\n",
    "        \n",
    "        for year in range(len(cost_annual_discounted)):\n",
    "            cost_annual_discounted[year] = cost_annual_discounted[year] * (1/(1+self.market_environment.discount_rate))**year\n",
    "            # subtract rebuy value in the final year of service\n",
    "            if year == self.service_life:\n",
    "                cost_annual_discounted[year] -= self.rebuy_value * (1/(1+self.market_environment.discount_rate))**year\n",
    "            \n",
    "        # include down payment in year 0. (undiscounted)\n",
    "        cost_annual_discounted[0] = self.down_payment\n",
    "        \n",
    "            \n",
    "        return cost_annual_discounted\n",
    "    \n",
    "    def get_depreciation_schedule(self):   \n",
    "        vehicle_value = self.vehicle_capex\n",
    "        depreciation_schedule = np.zeros(self.service_life)\n",
    "        for year in range(self.service_life):\n",
    "            depreciation_schedule[year] = vehicle_value\n",
    "            vehicle_value -= self.depreciation * vehicle_value\n",
    "            if vehicle_value < 0:\n",
    "                break \n",
    "               \n",
    "        return depreciation_schedule\n",
    "    "
   ]
  },
  {
   "attachments": {},
   "cell_type": "markdown",
   "metadata": {},
   "source": [
    "### EV (subclass of vehicle)"
   ]
  },
  {
   "cell_type": "code",
   "execution_count": 20,
   "metadata": {},
   "outputs": [],
   "source": [
    "class EV(Vehicle):\n",
    "    GRID_CARBON_INTENSITY = 0.95 # kgCO2/kWh\n",
    "    \n",
    "\n",
    "    def __init__(self, model: str, params: dict, charging_port, market_environment, financing_mechanism):\n",
    "        super().__init__(model, params, market_environment, financing_mechanism)\n",
    "        self.model = model # string\n",
    "        self.range = params['range'] # km\n",
    "        self.battery_capacity = params['battery_capacity'] # kWh\n",
    "        self.data_input_load_profile = params['data_input_load_profile'] # load profile\n",
    "        self.vehicle_capex = params['EV_capex']\n",
    "        self.trade_in_distance = params['EV_trade_in_distance']\n",
    "        self._needs_new_charging_port = params['needs_new_charging_port'] # boolean\n",
    "        self._charging_profile = None # kWh\n",
    "        \n",
    "        self.vehicle_to_charger_ratio = params['vehicle_to_charger_ratio'] # # vehicles per charging port \n",
    "        \n",
    "        \n",
    "        \n",
    "        # data classes\n",
    "        self.charging = charging_port\n",
    "        self.market_environment = market_environment\n",
    "        self.financing_mechanism = financing_mechanism\n",
    "        \n",
    "        \n",
    "        \n",
    "        if self._needs_new_charging_port:\n",
    "            self.capex = self.vehicle_capex + self.charging.capex \n",
    "        else:\n",
    "            self.capex = self.vehicle_capex \n",
    "            \n",
    "        \n",
    "        \n",
    "    def __repr__(self):\n",
    "        return f\"EV(id={repr(self.model)}, battery_capacity={repr(self._battery_capacity)}, charging_power={repr(self.charging.charging_power)})\"\n",
    "    \n",
    "    \n",
    "    # Efficiency getter and setter (for later on when we want to be able to change efficiency of vehicle and have it affect the charging profile without reinstantiating class)\n",
    "    @property\n",
    "    def efficiency(self):\n",
    "        return self.battery_capacity / self.range\n",
    "    \n",
    "    @efficiency.setter\n",
    "    def efficiency(self, efficiency):\n",
    "        self._charging_profile = None\n",
    "        self._efficiency = efficiency\n",
    "        \n",
    "    # Battery capacity getter and setter\n",
    "    @property \n",
    "    def battery_capacity(self):\n",
    "        return self._battery_capacity\n",
    "    \n",
    "    @battery_capacity.setter\n",
    "    def battery_capacity(self, battery_capacity):\n",
    "        self._charging_profile = None # reset charging profile when battery capacity is changed \n",
    "        self._battery_capacity = battery_capacity\n",
    "    \n",
    "        \n",
    "    # Charging profile (simulated or data loaded)\n",
    "    @property \n",
    "    def charging_profile(self):\n",
    "        # cache \n",
    "        if self._charging_profile is None: # cache when not None \n",
    "            total_days = 365  # Total number of days to simulate\n",
    "            total_hours = 24 * total_days  # Total simulation time in hours\n",
    "            time_resolution = 1  # Time resolution in hours (e.g., 0.25 means 15 minutes)\n",
    "            self._charging_profile = charging.simulate_charging_load_profile(total_days, total_hours, time_resolution, 1, self.charging.charging_power, data_input_load_profile = self.data_input_load_profile, plot = False) \n",
    "            \n",
    "        return self._charging_profile\n",
    "        \n",
    "    # Monetary costs\n",
    "    @property\n",
    "    def annual_electricity_costs(self):\n",
    "        return financial.get_cost_of_charging(self.charging_profile, self.market_environment.time_of_use_tariffs, self.market_environment.time_periods)\n",
    "        \n",
    "    @property\n",
    "    def operating_cost_fuel(self):\n",
    "        #Fuel Costs\n",
    "        operating_cost_fuel = np.full(self.service_life, self.annual_electricity_costs)\n",
    "        operating_cost_fuel[0] = 0\n",
    "        \n",
    "        # Adjust fuel cost for annual growth rate\n",
    "        for idx,val in enumerate(operating_cost_fuel):\n",
    "            if idx != 0:\n",
    "                operating_cost_fuel[idx] = operating_cost_fuel[idx] * (1+self.market_environment.price_electricity_annual_growth_rate)**(idx-1)\n",
    "                \n",
    "\n",
    "        return operating_cost_fuel\n",
    "    \n",
    "    #TODO: separate out charing station service life from EV service life...? \n",
    "    #TODO: ^think about the time horizon of investment analysis desired for the output of the tool / for a research papaer\n",
    "    @property \n",
    "    def operating_cost_charging_station(self):\n",
    "       # if self._needs_new_charging_port:\n",
    "        return np.full(self.service_life, self.charging.annual_opex) / self.vehicle_to_charger_ratio\n",
    "        # else:\n",
    "        #     return 0 \n",
    "        \n",
    "    #TODO: Simulate a 'roaming' charging profile like the normal charging profile. \n",
    "    @property \n",
    "    def roaming_revenue(self):\n",
    "        if self.charging.roaming:\n",
    "            return np.full(self.service_life, self.market_environment.price_electricity * self.charging.roaming_pct * 8760) # 8760 hours in a year\n",
    "        else:\n",
    "            return 0 \n",
    "        \n",
    "    @property\n",
    "    def operating_cost_total(self):\n",
    "        return self.operating_cost_fuel + self.operating_cost_other + self.operating_cost_charging_station - self.roaming_revenue \n",
    "    \n",
    "    \n",
    "    # Carbon emissions \n",
    "    @property \n",
    "    def annual_carbon_emissions(self):\n",
    "        kWh_used = sum(self.charging_profile)\n",
    "        return kWh_used * EV.GRID_CARBON_INTENSITY\n",
    "    \n",
    "        "
   ]
  },
  {
   "cell_type": "markdown",
   "metadata": {},
   "source": [
    "# TODO: \n",
    "\n",
    "(in no particular order)\n",
    "1. <font color = 'yellow'> Read in parameters as data load in or user input. </font>\n",
    "1. <font color = 'red'> Upgrade the EV charge simulation, possibly based on data or heuristics (needs a discussion) </font>\n",
    "2. <font color = 'orange'> Currently hard-coded as year on year analysis, may want to make this dynamic </font>\n",
    "3. <font color = 'orange'> Include end of life EV value somehow </font> \n",
    "4. <font color = 'yellow'> Include rebuy cost for the vehicle with the shorter lifespan in the main function? </font>\n",
    "5. <font color = 'yellow'> Amortization schedule function is clunk so fix. No need for pandas df </font>\n",
    "6. <font color = 'orange'> Simulate 'roaming' charging profile like normal charging profile and use for EV roaming revenue calcs </font>\n",
    "7. <font color = 'yellow'> Separate out EV charging station service life from vehicle service life </font>\n",
    "\n",
    "key: \n",
    "<font color = 'red'> hard </font>,\n",
    "<font color = 'orange'> medium </font>,\n",
    "<font color = 'yellow'> easy </font> </br>"
   ]
  },
  {
   "cell_type": "code",
   "execution_count": 70,
   "metadata": {},
   "outputs": [
    {
     "data": {
      "text/plain": [
       "[<matplotlib.lines.Line2D at 0x11c847190>]"
      ]
     },
     "execution_count": 70,
     "metadata": {},
     "output_type": "execute_result"
    },
    {
     "data": {
      "image/png": "[encoded data removed]",
      "text/plain": [
       "<Figure size 640x480 with 1 Axes>"
      ]
     },
     "metadata": {},
     "output_type": "display_data"
    }
   ],
   "source": [
    "plt.plot(ev1.charging_profile )"
   ]
  },
  {
   "attachments": {},
   "cell_type": "markdown",
   "metadata": {},
   "source": [
    "# Main"
   ]
  },
  {
   "cell_type": "markdown",
   "metadata": {},
   "source": [
    "## UC1 - Delivery"
   ]
  },
  {
   "cell_type": "markdown",
   "metadata": {},
   "source": [
    "Parameter initialization"
   ]
  },
  {
   "cell_type": "code",
   "execution_count": 71,
   "metadata": {},
   "outputs": [
    {
     "ename": "SyntaxError",
     "evalue": "invalid syntax (1839839559.py, line 37)",
     "output_type": "error",
     "traceback": [
      "\u001b[0;36m  Cell \u001b[0;32mIn[71], line 37\u001b[0;36m\u001b[0m\n\u001b[0;31m    'annual_opex': 2500,\u001b[0m\n\u001b[0m    ^\u001b[0m\n\u001b[0;31mSyntaxError\u001b[0m\u001b[0;31m:\u001b[0m invalid syntax\n"
     ]
    }
   ],
   "source": [
    "vehicle_params = {# Fleet Description\n",
    "                  'daily_mileage': 150, #km \n",
    "                  'days_worked_per_week': 7, # days\n",
    "                  'weeks_worked_per_year': 50, #weeks \n",
    "                  ## Charging\n",
    "                  #'needs_new_charging_port': True, #  if True, then includes the charging port capex\n",
    "                  # Vehicle Description \n",
    "                  'service_life': 10, # years\n",
    "                  ## EV\n",
    "                  'battery_capacity': 2.7, #kWh/km\n",
    "                  'range': 120, # km\n",
    "                  ## ICE\n",
    "                  'fuel_economy': 10, #L/100km      \n",
    "                  # Financing \n",
    "                  'down_payment_fraction': 1.0, # %\n",
    "                #   'annual_insurance_cost': 1000,  # R\n",
    "                #   'annual_taxes': 1000, # R  \n",
    "                  # Vehicle Cost\n",
    "                  'EV_capex': 66000, # R\n",
    "                  'ICE_capex': 66000 * 0.66, # R\n",
    "                  'depreciation': 0.30, # %\n",
    "                  'rebuy_value_fraction': 0.10, # %\n",
    "                  'data_input_load_profile': None,\n",
    "                  # Maintenance \n",
    "                  'maintenance_cost': 2178, # R\n",
    "                  'ICE_trade_in_distance': 300000, # km\n",
    "                  'EV_trade_in_distance': 300000, # km\n",
    "                  'maintenance_schedule': 15000 # km\n",
    "                    }\n",
    "\n",
    "charging_port_params = {'charging_power': 1.1, # kW \n",
    "                        'charging_efficiency': 0.90, # %\n",
    "                        'capex': 0, # R\n",
    "                        'roaming': False, # If true, then allows charging port to include EV roaming\n",
    "                        'roaming_pct': 0.85, # % of charging done elsewhere (roaming)\n",
    "                        'roam_price': 6.39,  # \n",
    "                        'annual_opex': 2500, # monthly operating expense\n",
    "                        'vehicle_to_charge_ratio': 1} # num of vehicles per charging port \n",
    "\n",
    "market_params = {'price_electricity': 0.08, # USD/kWh\n",
    "                 'price_electricity_annual_growth_rate': 0.02, #% . \n",
    "                 'price_diesel': 1.20, # USD/L\n",
    "                 'price_diesel_annual_growth_rate': 0.10, # % \n",
    "                 'discount_rate': 0.10, # %\n",
    "                 'inflation_rate': 0.02, # % \n",
    "                 'interest_rate': 0.07, # % \n",
    "                 'time_of_use_tariffs_high': {'peak': 6.97, \n",
    "                                         'standard': 2.46, \n",
    "                                         'off-peak': 1.57},\n",
    "                 \n",
    "                 'time_of_use_tariffs_low': {'peak': 2.61, \n",
    "                                         'standard': 1.95, \n",
    "                                         'off-peak': 1.42},\n",
    "                 'time_periods': {'peak_times': [7,8,9,18,19],\n",
    "                                  'standard_times': [6, 10, 11, 12, 13, 14, 15, 16, 17, 20, 21],\n",
    "                                  'off_peak_times': [22, 23, 0, 1, 2, 3, 4, 5]}\n",
    "                 \n",
    "                 }\n",
    "\n",
    "financing_params = {'loan_lifetime': 10, # years\n",
    "                    'installment_schedule': 12} # payments per year \n"
   ]
  },
  {
   "cell_type": "markdown",
   "metadata": {},
   "source": [
    "Instantiate classes and plot"
   ]
  },
  {
   "cell_type": "code",
   "execution_count": 33,
   "metadata": {},
   "outputs": [
    {
     "data": {
      "image/png": "[encoded data removed]",
      "text/plain": [
       "<Figure size 640x480 with 1 Axes>"
      ]
     },
     "metadata": {},
     "output_type": "display_data"
    }
   ],
   "source": [
    "reload(module)\n",
    "\n",
    "# Establish environment\n",
    "charging_port1 = ChargingPort(**charging_port_params)\n",
    "market_environment1 = MarketEnvironment(**market_params)\n",
    "financing_mechanism1 = FinancingMechanism(**financing_params)  \n",
    "\n",
    "# Create vehicle and EV\n",
    "vehicle1 = Vehicle(1, vehicle_params, market_environment = market_environment1, financing_mechanism = financing_mechanism1)\n",
    "ev1 = EV(vehicle1, vehicle_params, charging_port1, market_environment1, financing_mechanism1)\n",
    "\n",
    "# Plot \n",
    "plot_cumulative_costs(ev1, vehicle1, filename = 'example_plot', vehicle_type = 'taxi')\n",
    "\n",
    "# Example - get carbon emissionsd\n",
    "print(\"ICEV emits: \", round(vehicle1.annual_carbon_emissions, 2), \"kgCO2eq/year\")\n",
    "print(\"EV emits: \", round(ev1.annual_carbon_emissions, 2), \"kgCO2eq/year\")"
   ]
  },
  {
   "cell_type": "markdown",
   "metadata": {},
   "source": [
    "Example - plot for entire fleet"
   ]
  },
  {
   "cell_type": "code",
   "execution_count": 46,
   "metadata": {},
   "outputs": [
    {
     "data": {
      "image/png": "[encoded data removed]",
      "text/plain": [
       "<Figure size 640x480 with 1 Axes>"
      ]
     },
     "metadata": {},
     "output_type": "display_data"
    }
   ],
   "source": [
    "fleet_size = 30\n",
    "no_location = 35\n",
    "costs_ev, costs_ice = obtain_fleet_costs(vehicle1, ev1, fleet_size = fleet_size, no_location = no_location)\n",
    "plot_fleet_costs(costs_ev, costs_ice, vehicle_type = 'Delivery', num_vehicles = (fleet_size * no_location))"
   ]
  },
  {
   "cell_type": "markdown",
   "metadata": {},
   "source": [
    "## UC2 - Logistics"
   ]
  },
  {
   "cell_type": "code",
   "execution_count": null,
   "metadata": {},
   "outputs": [],
   "source": [
    "filename = \"logistics\"\n",
    "vehicle_type = \"Logistics\"\n",
    "\n",
    "vehicle_params = {# Fleet Description\n",
    "                  'daily_mileage': 150, #km \n",
    "                  'days_worked_per_week': 7, # days\n",
    "                  'weeks_worked_per_year': 50, #weeks \n",
    "                  ## Charging\n",
    "                  'needs_new_charging_port': True, #  if True, then includes the charging port capex\n",
    "                  # Vehicle Description \n",
    "                  'service_life': 10, # years\n",
    "                  ## EV\n",
    "                  'battery_capacity': 2.7, #kWh/km\n",
    "                  'range': 120, # km\n",
    "                  ## ICE\n",
    "                  'fuel_economy': 10, #L/100km      \n",
    "                  # Financing \n",
    "                  'down_payment_fraction': 1.0, # %\n",
    "                  'annual_insurance_cost': 1000,  # USD\n",
    "                  'annual_taxes': 1000, # USD  \n",
    "                  # Vehicle Cost\n",
    "                  'EV_capex': 66000, # USD\n",
    "                  'ICE_capex': 66000 * 0.75, # USD\n",
    "                  'depreciation': 0.30, # %\n",
    "                  'rebuy_value_fraction': 0.10, # %\n",
    "                  'data_input_load_profile': None,\n",
    "                  # Maintenance \n",
    "                  'maintenance_cost': 2178/18, # USD\n",
    "                  'ICE_trade_in_distance': 300000, # km\n",
    "                  'EV_trade_in_distance': 300000, # km\n",
    "                  'maintenance_schedule': 15000 # km\n",
    "                    }\n",
    "\n",
    "charging_port_params = {'charging_power': 1.1, # kW \n",
    "                        'charging_efficiency': 0.90, #%\n",
    "                        'capex': 10000, # USD\n",
    "                        'roaming': True, # if true, then allows charging port to include EV roaming\n",
    "                        'roaming_pct': 0.10, # %\n",
    "                        'annual_opex': 1000} # USD\n",
    "\n",
    "market_params = {'price_electricity': 0.08, # USD/kWh\n",
    "                 'price_electricity_annual_growth_rate': 0.02, #% . \n",
    "                 'price_diesel': 1.20, # USD/L\n",
    "                 'price_diesel_annual_growth_rate': 0.10, # % \n",
    "                 'discount_rate': 0.10, # %\n",
    "                 'inflation_rate': 0.02, # % \n",
    "                 'interest_rate': 0.07, # % \n",
    "                 'time_of_use_tariffs': {'peak': 6.97/18, \n",
    "                                         'standard': 2.46/18, \n",
    "                                         'off-peak': 1.57/18},\n",
    "                 'time_periods': {'peak_times': [7,8,9,18,19],\n",
    "                                  'standard_times': [6, 10, 11, 12, 13, 14, 15, 16, 17, 20, 21],\n",
    "                                  'off_peak_times': [22, 23, 0, 1, 2, 3, 4, 5]}}\n",
    "\n",
    "financing_params = {'loan_lifetime': 10, # years\n",
    "                    'installment_schedule': 12} # payments per year \n"
   ]
  },
  {
   "cell_type": "code",
   "execution_count": null,
   "metadata": {},
   "outputs": [],
   "source": [
    "reload(module)\n",
    "\n",
    "charging_port1 = ChargingPort(**charging_port_params)\n",
    "market_environment1 = MarketEnvironment(**market_params)\n",
    "financing_mechanism1 = FinancingMechanism(**financing_params)  \n",
    "\n",
    "\n",
    "vehicle1 = Vehicle(1, vehicle_params, market_environment = market_environment1, financing_mechanism = financing_mechanism1)\n",
    "ev1 = EV(vehicle1, vehicle_params, charging_port1, market_environment1, financing_mechanism1)\n",
    "plot_cumulative_costs(ev1, vehicle1, filename, vehicle_type)\n",
    "plt.show()"
   ]
  },
  {
   "cell_type": "code",
   "execution_count": null,
   "metadata": {},
   "outputs": [],
   "source": [
    "for _ in range(30 * 35): \n",
    "    vehicle = (1, vehicle_params, market_environment = market_environment1, financing_mechanism = financing_mechanism1)\n",
    "    ev = EV(vehicle1, vehicle_params, charging_port1, market_environment1, financing_mechanism1)\n",
    "    "
   ]
  },
  {
   "cell_type": "markdown",
   "metadata": {},
   "source": [
    "## UC3 - Tech services"
   ]
  },
  {
   "cell_type": "code",
   "execution_count": null,
   "metadata": {},
   "outputs": [],
   "source": []
  },
  {
   "cell_type": "markdown",
   "metadata": {},
   "source": [
    "## UC4 - Rental"
   ]
  },
  {
   "cell_type": "code",
   "execution_count": null,
   "metadata": {},
   "outputs": [],
   "source": []
  }
 ],
 "metadata": {
  "kernelspec": {
   "display_name": "chullenv",
   "language": "python",
   "name": "python3"
  },
  "language_info": {
   "codemirror_mode": {
    "name": "ipython",
    "version": 3
   },
   "file_extension": ".py",
   "mimetype": "text/x-python",
   "name": "python",
   "nbconvert_exporter": "python",
   "pygments_lexer": "ipython3",
   "version": "3.9.13"
  },
  "orig_nbformat": 4
 },
 "nbformat": 4,
 "nbformat_minor": 2
}
